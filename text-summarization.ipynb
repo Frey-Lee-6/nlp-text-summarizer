{
 "cells": [
  {
   "cell_type": "code",
   "execution_count": 3,
   "id": "355f34de-a23e-4b48-9b4b-515b1beec1e9",
   "metadata": {},
   "outputs": [
    {
     "name": "stderr",
     "output_type": "stream",
     "text": [
      "[nltk_data] Downloading package punkt_tab to\n",
      "[nltk_data]     C:\\Users\\Admin\\AppData\\Roaming\\nltk_data...\n",
      "[nltk_data]   Package punkt_tab is already up-to-date!\n",
      "[nltk_data] Downloading package punkt to\n",
      "[nltk_data]     C:\\Users\\Admin\\AppData\\Roaming\\nltk_data...\n",
      "[nltk_data]   Package punkt is already up-to-date!\n"
     ]
    }
   ],
   "source": [
    "from datasets import load_dataset\n",
    "from transformers import T5Tokenizer,T5ForConditionalGeneration\n",
    "import nltk\n",
    "nltk.download('punkt_tab')\n",
    "from rouge_score import rouge_scorer\n",
    "#下载nltk需要的资源\n",
    "nltk.download('punkt')\n",
    "import sentencepiece\n"
   ]
  },
  {
   "cell_type": "code",
   "execution_count": 5,
   "id": "0e9a9b9c-f518-454f-a0a2-8ff1c4b08bfb",
   "metadata": {},
   "outputs": [
    {
     "name": "stdout",
     "output_type": "stream",
     "text": [
      "DatasetDict({\n",
      "    train: Dataset({\n",
      "        features: ['article', 'highlights', 'id'],\n",
      "        num_rows: 287113\n",
      "    })\n",
      "    validation: Dataset({\n",
      "        features: ['article', 'highlights', 'id'],\n",
      "        num_rows: 13368\n",
      "    })\n",
      "    test: Dataset({\n",
      "        features: ['article', 'highlights', 'id'],\n",
      "        num_rows: 11490\n",
      "    })\n",
      "})\n"
     ]
    }
   ],
   "source": [
    "# 加载 CNN/Daily Mail 数据集\n",
    "dataset = load_dataset(\"cnn_dailymail\",'1.0.0')  # 尝试其他版本,三番五次！最终确定 1.0.0!!!\n",
    "\n",
    "# 查看数据集结构\n",
    "print(dataset)"
   ]
  },
  {
   "cell_type": "code",
   "execution_count": 23,
   "id": "5dfa1e18-bef8-4bad-8d1f-9c075a98fded",
   "metadata": {},
   "outputs": [
    {
     "data": {
      "application/vnd.jupyter.widget-view+json": {
       "model_id": "3992287cf2f346cb9b63adbf213d0fa4",
       "version_major": 2,
       "version_minor": 0
      },
      "text/plain": [
       "Map:   0%|          | 0/287113 [00:00<?, ? examples/s]"
      ]
     },
     "metadata": {},
     "output_type": "display_data"
    },
    {
     "data": {
      "application/vnd.jupyter.widget-view+json": {
       "model_id": "063e78e7e93a4c13bad689ba2be12b5a",
       "version_major": 2,
       "version_minor": 0
      },
      "text/plain": [
       "Map:   0%|          | 0/13368 [00:00<?, ? examples/s]"
      ]
     },
     "metadata": {},
     "output_type": "display_data"
    },
    {
     "data": {
      "application/vnd.jupyter.widget-view+json": {
       "model_id": "74f8491a37b44e519562cd1727268085",
       "version_major": 2,
       "version_minor": 0
      },
      "text/plain": [
       "Map:   0%|          | 0/11490 [00:00<?, ? examples/s]"
      ]
     },
     "metadata": {},
     "output_type": "display_data"
    }
   ],
   "source": [
    "# 定义一个文本预处理函数\n",
    "def preprocess_text(text):\n",
    "    tokens = nltk.word_tokenize(text.lower())  # 小写化并分词\n",
    "    return ' '.join(tokens)\n",
    "\n",
    "# 应用预处理函数\n",
    "dataset = dataset.map(lambda x: {'article': preprocess_text(x['article']),\n",
    "                                'highlights': preprocess_text(x['highlights'])})\n",
    "    #太慢了。。。换成多进程\n",
    "# 使用多进程处理数据\n",
    "#dataset = dataset.map(\n",
    "  #  lambda x: {'article': preprocess_text(x['article']),\n",
    "   #            'highlights': preprocess_text(x['highlights'])},\n",
    "  #  num_proc=2  # 使用4个进程并行处理    "
   ]
  },
  {
   "cell_type": "code",
   "execution_count": 7,
   "id": "98c28c9d-9834-4cab-9525-e36d74cc9e7c",
   "metadata": {},
   "outputs": [],
   "source": [
    "# 删除或注释掉之前的预处理代码\n",
    "\n",
    "# 然后加载保存的数据集\n",
    "from datasets import load_from_disk\n",
    "dataset = load_from_disk('processed_dataset')"
   ]
  },
  {
   "cell_type": "code",
   "execution_count": 8,
   "id": "2dbaa8ba-df00-44bc-a843-c061e16c412d",
   "metadata": {
    "scrolled": true
   },
   "outputs": [
    {
     "data": {
      "application/vnd.jupyter.widget-view+json": {
       "model_id": "4afd42683856426d9fefc3495d8210c9",
       "version_major": 2,
       "version_minor": 0
      },
      "text/plain": [
       "tokenizer_config.json:   0%|          | 0.00/2.32k [00:00<?, ?B/s]"
      ]
     },
     "metadata": {},
     "output_type": "display_data"
    },
    {
     "name": "stderr",
     "output_type": "stream",
     "text": [
      "C:\\Users\\Admin\\.conda\\envs\\text-summarization\\Lib\\site-packages\\huggingface_hub\\file_download.py:140: UserWarning: `huggingface_hub` cache-system uses symlinks by default to efficiently store duplicated files but your machine does not support them in C:\\Users\\Admin\\.cache\\huggingface\\hub\\models--t5-small. Caching files will still work but in a degraded version that might require more space on your disk. This warning can be disabled by setting the `HF_HUB_DISABLE_SYMLINKS_WARNING` environment variable. For more details, see https://huggingface.co/docs/huggingface_hub/how-to-cache#limitations.\n",
      "To support symlinks on Windows, you either need to activate Developer Mode or to run Python as an administrator. In order to activate developer mode, see this article: https://docs.microsoft.com/en-us/windows/apps/get-started/enable-your-device-for-development\n",
      "  warnings.warn(message)\n"
     ]
    },
    {
     "data": {
      "application/vnd.jupyter.widget-view+json": {
       "model_id": "e2b5f2fa1508467faac05e850859072a",
       "version_major": 2,
       "version_minor": 0
      },
      "text/plain": [
       "spiece.model:   0%|          | 0.00/792k [00:00<?, ?B/s]"
      ]
     },
     "metadata": {},
     "output_type": "display_data"
    },
    {
     "data": {
      "application/vnd.jupyter.widget-view+json": {
       "model_id": "a74fc012f74841d989cb7f1a27cd12b3",
       "version_major": 2,
       "version_minor": 0
      },
      "text/plain": [
       "tokenizer.json:   0%|          | 0.00/1.39M [00:00<?, ?B/s]"
      ]
     },
     "metadata": {},
     "output_type": "display_data"
    },
    {
     "name": "stderr",
     "output_type": "stream",
     "text": [
      "You are using the default legacy behaviour of the <class 'transformers.models.t5.tokenization_t5.T5Tokenizer'>. This is expected, and simply means that the `legacy` (previous) behavior will be used so nothing changes for you. If you want to use the new behaviour, set `legacy=False`. This should only be set if you understand what it means, and thoroughly read the reason why this was added as explained in https://github.com/huggingface/transformers/pull/24565\n"
     ]
    }
   ],
   "source": [
    "\n",
    "# 加载 T5 模型和分词器\n",
    "model_name = \"t5-small\"  # 选择一个较小的模型以提高训练速度\n",
    "model = T5ForConditionalGeneration.from_pretrained(model_name)\n",
    "tokenizer = T5Tokenizer.from_pretrained(model_name)"
   ]
  },
  {
   "cell_type": "code",
   "execution_count": 9,
   "id": "a96788fa-9844-44c5-8949-2638d3c7800c",
   "metadata": {},
   "outputs": [
    {
     "name": "stdout",
     "output_type": "stream",
     "text": [
      "Generated Summary:  daniel radcliffe says he has no plans to fritter his cash away on fast cars, drink and celebrity parties. he says he is keeping his feet firmly on the ground. radcliffe's earnings from the first five potter films have been held in a trust fund which he has not touched.\n"
     ]
    }
   ],
   "source": [
    "# 定义一个生成摘要的函数\n",
    "def summarize(text):\n",
    "    inputs = tokenizer(text, return_tensors=\"pt\", max_length=512, truncation=True)\n",
    "    summary_ids = model.generate(inputs['input_ids'], max_length=150, num_beams=4, length_penalty=2.0, early_stopping=True)\n",
    "    summary = tokenizer.decode(summary_ids[0], skip_special_tokens=True)\n",
    "    return summary\n",
    "\n",
    "# 选择数据集中的一篇文章进行测试\n",
    "sample_text = dataset['train'][0]['article']\n",
    "generated_summary = summarize(sample_text)\n",
    "print(\"Generated Summary: \", generated_summary)"
   ]
  },
  {
   "cell_type": "code",
   "execution_count": 10,
   "id": "3bbc2421-da17-406c-a236-b55faf935d4c",
   "metadata": {},
   "outputs": [
    {
     "name": "stdout",
     "output_type": "stream",
     "text": [
      "ROUGE Scores:  {'rouge1': Score(precision=0.5294117647058824, recall=0.6923076923076923, fmeasure=0.5999999999999999), 'rouge2': Score(precision=0.42, recall=0.5526315789473685, fmeasure=0.4772727272727273), 'rougeL': Score(precision=0.5098039215686274, recall=0.6666666666666666, fmeasure=0.5777777777777778)}\n"
     ]
    }
   ],
   "source": [
    "# 定义一个评估函数\n",
    "scorer = rouge_scorer.RougeScorer(['rouge1', 'rouge2', 'rougeL'], use_stemmer=True)\n",
    "\n",
    "def evaluate_summary(generated, reference):\n",
    "    return scorer.score(reference, generated)\n",
    "\n",
    "# 获取真实摘要\n",
    "reference_summary = dataset['train'][0]['highlights']\n",
    "# 评估生成的摘要\n",
    "evaluation = evaluate_summary(generated_summary, reference_summary)\n",
    "print(\"ROUGE Scores: \", evaluation)"
   ]
  },
  {
   "cell_type": "code",
   "execution_count": 15,
   "id": "054cbae6-3af6-40a2-90ea-2764c4fd12cd",
   "metadata": {},
   "outputs": [],
   "source": [
    "sample_text = dataset['train'][1]['article']  # 获取训练集中的第二篇文章\n"
   ]
  },
  {
   "cell_type": "code",
   "execution_count": 16,
   "id": "198dea2b-4b7b-4e8e-8ae8-5a0be1738bc2",
   "metadata": {},
   "outputs": [
    {
     "name": "stdout",
     "output_type": "stream",
     "text": [
      "Original Article:  editor 's note : in our behind the scenes series , cnn correspondents share their experiences in covering news and analyze the stories behind the events . here , soledad o'brien takes users inside a jail where many of the inmates are mentally ill. an inmate housed on the `` forgotten floor , '' where many mentally ill inmates are housed in miami before trial . miami , florida ( cnn ) -- the ninth floor of the miami-dade pretrial detention facility is dubbed the `` forgotten floor . '' here , inmates with the most severe mental illnesses are incarcerated until they 're ready to appear in court . most often , they face drug charges or charges of assaulting an officer -- charges that judge steven leifman says are usually `` avoidable felonies . '' he says the arrests often result from confrontations with police . mentally ill people often wo n't do what they 're told when police arrive on the scene -- confrontation seems to exacerbate their illness and they become more paranoid , delusional , and less likely to follow directions , according to leifman . so , they end up on the ninth floor severely mentally disturbed , but not getting any real help because they 're in jail . we toured the jail with leifman . he is well known in miami as an advocate for justice and the mentally ill. even though we were not exactly welcomed with open arms by the guards , we were given permission to shoot videotape and tour the floor . go inside the 'forgotten floor ' » . at first , it 's hard to determine where the people are . the prisoners are wearing sleeveless robes . imagine cutting holes for arms and feet in a heavy wool sleeping bag -- that 's kind of what they look like . they 're designed to keep the mentally ill patients from injuring themselves . that 's also why they have no shoes , laces or mattresses . leifman says about one-third of all people in miami-dade county jails are mentally ill. so , he says , the sheer volume is overwhelming the system , and the result is what we see on the ninth floor . of course , it is a jail , so it 's not supposed to be warm and comforting , but the lights glare , the cells are tiny and it 's loud . we see two , sometimes three men -- sometimes in the robes , sometimes naked , lying or sitting in their cells . `` i am the son of the president . you need to get me out of here ! '' one man shouts at me . he is absolutely serious , convinced that help is on the way -- if only he could reach the white house . leifman tells me that these prisoner-patients will often circulate through the system , occasionally stabilizing in a mental hospital , only to return to jail to face their charges . it 's brutally unjust , in his mind , and he has become a strong advocate for changing things in miami . over a meal later , we talk about how things got this way for mental patients . leifman says 200 years ago people were considered `` lunatics '' and they were locked up in jails even if they had no charges against them . they were just considered unfit to be in society . over the years , he says , there was some public outcry , and the mentally ill were moved out of jails and into hospitals . but leifman says many of these mental hospitals were so horrible they were shut down . where did the patients go ? nowhere . the streets . they became , in many cases , the homeless , he says . they never got treatment . leifman says in 1955 there were more than half a million people in state mental hospitals , and today that number has been reduced 90 percent , and 40,000 to 50,000 people are in mental hospitals . the judge says he 's working to change this . starting in 2008 , many inmates who would otherwise have been brought to the `` forgotten floor '' will instead be sent to a new mental health facility -- the first step on a journey toward long-term treatment , not just punishment . leifman says it 's not the complete answer , but it 's a start . leifman says the best part is that it 's a win-win solution . the patients win , the families are relieved , and the state saves money by simply not cycling these prisoners through again and again . and , for leifman , justice is served . e-mail to a friend .\n"
     ]
    }
   ],
   "source": [
    "print(\"Original Article: \", sample_text)"
   ]
  },
  {
   "cell_type": "code",
   "execution_count": 19,
   "id": "a1ddc4b8-1cf8-4569-bcf3-f91b3686de1f",
   "metadata": {
    "scrolled": true
   },
   "outputs": [
    {
     "name": "stdout",
     "output_type": "stream",
     "text": [
      "Generated Summary:  daniel radcliffe says he has no plans to fritter his cash away on fast cars, drink and celebrity parties. he says he is keeping his feet firmly on the ground. radcliffe's earnings from the first five potter films have been held in a trust fund which he has not touched.\n"
     ]
    }
   ],
   "source": [
    "print(\"Generated Summary: \", generated_summary)\n"
   ]
  },
  {
   "cell_type": "code",
   "execution_count": 1,
   "id": "5f6a29c9-40b1-4258-8756-f0cbbcf2d085",
   "metadata": {},
   "outputs": [
    {
     "name": "stdout",
     "output_type": "stream",
     "text": [
      "C:\\Users\\Admin\n"
     ]
    }
   ],
   "source": [
    "import os\n",
    "print(os.getcwd())"
   ]
  },
  {
   "cell_type": "code",
   "execution_count": null,
   "id": "f8030095-7416-4fc4-bc36-53d767acf589",
   "metadata": {},
   "outputs": [],
   "source": []
  }
 ],
 "metadata": {
  "kernelspec": {
   "display_name": "Python 3 (ipykernel)",
   "language": "python",
   "name": "python3"
  },
  "language_info": {
   "codemirror_mode": {
    "name": "ipython",
    "version": 3
   },
   "file_extension": ".py",
   "mimetype": "text/x-python",
   "name": "python",
   "nbconvert_exporter": "python",
   "pygments_lexer": "ipython3",
   "version": "3.11.9"
  }
 },
 "nbformat": 4,
 "nbformat_minor": 5
}
